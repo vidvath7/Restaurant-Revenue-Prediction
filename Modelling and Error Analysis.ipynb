{
 "cells": [
  {
   "cell_type": "markdown",
   "id": "71c47ec0",
   "metadata": {},
   "source": [
    "# <font color=green><center>**Phase 3**</center></font>"
   ]
  },
  {
   "cell_type": "markdown",
   "id": "10445df2",
   "metadata": {},
   "source": [
    "***"
   ]
  },
  {
   "cell_type": "markdown",
   "id": "ee5461b7",
   "metadata": {},
   "source": [
    "# Importing necessary Libraries"
   ]
  },
  {
   "cell_type": "code",
   "execution_count": 1,
   "id": "0d45e8e5",
   "metadata": {},
   "outputs": [],
   "source": [
    "import numpy as np\n",
    "import pandas as pd\n",
    "import matplotlib.pyplot as plt\n",
    "import seaborn as sns\n",
    "import tensorflow as tf\n",
    "from scipy import stats\n",
    "from scipy.stats import norm,skew\n",
    "from sklearn import preprocessing  \n",
    "from sklearn.preprocessing import StandardScaler\n",
    "from sklearn.decomposition import PCA"
   ]
  },
  {
   "cell_type": "markdown",
   "id": "d54d9018",
   "metadata": {},
   "source": [
    "# Loading Dataset"
   ]
  },
  {
   "cell_type": "markdown",
   "id": "85e99e26",
   "metadata": {},
   "source": [
    "Loading the Dataset which we have preprocessed already in the last phase."
   ]
  },
  {
   "cell_type": "code",
   "execution_count": 2,
   "id": "997f7ee7",
   "metadata": {},
   "outputs": [],
   "source": [
    "train_data=pd.read_csv(\"preprocessed_train_df.csv\")\n",
    "test_data=pd.read_csv(\"preprocessed_test_df.csv\")\n"
   ]
  },
  {
   "cell_type": "code",
   "execution_count": 3,
   "id": "1b8b8489",
   "metadata": {},
   "outputs": [],
   "source": [
    "#Original test dataset is loaded to obtain the id \n",
    "test=pd.read_csv(\"test.csv\")"
   ]
  },
  {
   "cell_type": "markdown",
   "id": "2f7920b1",
   "metadata": {},
   "source": [
    "# Dataset Overview"
   ]
  },
  {
   "cell_type": "code",
   "execution_count": 4,
   "id": "e0601691",
   "metadata": {},
   "outputs": [
    {
     "data": {
      "text/plain": [
       "((134, 44), (100000, 43))"
      ]
     },
     "execution_count": 4,
     "metadata": {},
     "output_type": "execute_result"
    }
   ],
   "source": [
    "# No. of records and dimensions respectively\n",
    "train_data.shape, test_data.shape"
   ]
  },
  {
   "cell_type": "code",
   "execution_count": 5,
   "id": "746ec718",
   "metadata": {},
   "outputs": [
    {
     "data": {
      "text/html": [
       "<div>\n",
       "<style scoped>\n",
       "    .dataframe tbody tr th:only-of-type {\n",
       "        vertical-align: middle;\n",
       "    }\n",
       "\n",
       "    .dataframe tbody tr th {\n",
       "        vertical-align: top;\n",
       "    }\n",
       "\n",
       "    .dataframe thead th {\n",
       "        text-align: right;\n",
       "    }\n",
       "</style>\n",
       "<table border=\"1\" class=\"dataframe\">\n",
       "  <thead>\n",
       "    <tr style=\"text-align: right;\">\n",
       "      <th></th>\n",
       "      <th>Unnamed: 0</th>\n",
       "      <th>Month</th>\n",
       "      <th>Year</th>\n",
       "      <th>Years_old</th>\n",
       "      <th>City Group</th>\n",
       "      <th>Type</th>\n",
       "      <th>P1</th>\n",
       "      <th>P2</th>\n",
       "      <th>P3</th>\n",
       "      <th>P4</th>\n",
       "      <th>...</th>\n",
       "      <th>P29</th>\n",
       "      <th>P30</th>\n",
       "      <th>P31</th>\n",
       "      <th>P32</th>\n",
       "      <th>P33</th>\n",
       "      <th>P34</th>\n",
       "      <th>P35</th>\n",
       "      <th>P36</th>\n",
       "      <th>P37</th>\n",
       "      <th>revenue_log</th>\n",
       "    </tr>\n",
       "  </thead>\n",
       "  <tbody>\n",
       "    <tr>\n",
       "      <th>0</th>\n",
       "      <td>0</td>\n",
       "      <td>7</td>\n",
       "      <td>1999</td>\n",
       "      <td>16</td>\n",
       "      <td>0</td>\n",
       "      <td>2</td>\n",
       "      <td>4</td>\n",
       "      <td>5.0</td>\n",
       "      <td>4.0</td>\n",
       "      <td>4.0</td>\n",
       "      <td>...</td>\n",
       "      <td>3.0</td>\n",
       "      <td>5</td>\n",
       "      <td>3</td>\n",
       "      <td>4</td>\n",
       "      <td>5</td>\n",
       "      <td>5</td>\n",
       "      <td>4</td>\n",
       "      <td>3</td>\n",
       "      <td>4</td>\n",
       "      <td>15.547830</td>\n",
       "    </tr>\n",
       "    <tr>\n",
       "      <th>1</th>\n",
       "      <td>1</td>\n",
       "      <td>2</td>\n",
       "      <td>2008</td>\n",
       "      <td>7</td>\n",
       "      <td>0</td>\n",
       "      <td>1</td>\n",
       "      <td>4</td>\n",
       "      <td>5.0</td>\n",
       "      <td>4.0</td>\n",
       "      <td>4.0</td>\n",
       "      <td>...</td>\n",
       "      <td>3.0</td>\n",
       "      <td>0</td>\n",
       "      <td>0</td>\n",
       "      <td>0</td>\n",
       "      <td>0</td>\n",
       "      <td>0</td>\n",
       "      <td>0</td>\n",
       "      <td>0</td>\n",
       "      <td>0</td>\n",
       "      <td>15.750379</td>\n",
       "    </tr>\n",
       "    <tr>\n",
       "      <th>2</th>\n",
       "      <td>2</td>\n",
       "      <td>3</td>\n",
       "      <td>2013</td>\n",
       "      <td>2</td>\n",
       "      <td>1</td>\n",
       "      <td>2</td>\n",
       "      <td>2</td>\n",
       "      <td>4.0</td>\n",
       "      <td>2.0</td>\n",
       "      <td>5.0</td>\n",
       "      <td>...</td>\n",
       "      <td>3.0</td>\n",
       "      <td>0</td>\n",
       "      <td>0</td>\n",
       "      <td>0</td>\n",
       "      <td>0</td>\n",
       "      <td>0</td>\n",
       "      <td>0</td>\n",
       "      <td>0</td>\n",
       "      <td>0</td>\n",
       "      <td>14.535971</td>\n",
       "    </tr>\n",
       "    <tr>\n",
       "      <th>3</th>\n",
       "      <td>3</td>\n",
       "      <td>2</td>\n",
       "      <td>2012</td>\n",
       "      <td>3</td>\n",
       "      <td>1</td>\n",
       "      <td>2</td>\n",
       "      <td>6</td>\n",
       "      <td>4.5</td>\n",
       "      <td>6.0</td>\n",
       "      <td>6.0</td>\n",
       "      <td>...</td>\n",
       "      <td>7.5</td>\n",
       "      <td>25</td>\n",
       "      <td>12</td>\n",
       "      <td>10</td>\n",
       "      <td>6</td>\n",
       "      <td>18</td>\n",
       "      <td>12</td>\n",
       "      <td>12</td>\n",
       "      <td>6</td>\n",
       "      <td>14.799651</td>\n",
       "    </tr>\n",
       "    <tr>\n",
       "      <th>4</th>\n",
       "      <td>4</td>\n",
       "      <td>5</td>\n",
       "      <td>2009</td>\n",
       "      <td>6</td>\n",
       "      <td>1</td>\n",
       "      <td>2</td>\n",
       "      <td>3</td>\n",
       "      <td>4.0</td>\n",
       "      <td>3.0</td>\n",
       "      <td>4.0</td>\n",
       "      <td>...</td>\n",
       "      <td>3.0</td>\n",
       "      <td>5</td>\n",
       "      <td>1</td>\n",
       "      <td>3</td>\n",
       "      <td>2</td>\n",
       "      <td>3</td>\n",
       "      <td>4</td>\n",
       "      <td>3</td>\n",
       "      <td>3</td>\n",
       "      <td>15.278005</td>\n",
       "    </tr>\n",
       "  </tbody>\n",
       "</table>\n",
       "<p>5 rows × 44 columns</p>\n",
       "</div>"
      ],
      "text/plain": [
       "   Unnamed: 0  Month  Year  Years_old  City Group  Type  P1   P2   P3   P4  \\\n",
       "0           0      7  1999         16           0     2   4  5.0  4.0  4.0   \n",
       "1           1      2  2008          7           0     1   4  5.0  4.0  4.0   \n",
       "2           2      3  2013          2           1     2   2  4.0  2.0  5.0   \n",
       "3           3      2  2012          3           1     2   6  4.5  6.0  6.0   \n",
       "4           4      5  2009          6           1     2   3  4.0  3.0  4.0   \n",
       "\n",
       "   ...  P29  P30  P31  P32  P33  P34  P35  P36  P37  revenue_log  \n",
       "0  ...  3.0    5    3    4    5    5    4    3    4    15.547830  \n",
       "1  ...  3.0    0    0    0    0    0    0    0    0    15.750379  \n",
       "2  ...  3.0    0    0    0    0    0    0    0    0    14.535971  \n",
       "3  ...  7.5   25   12   10    6   18   12   12    6    14.799651  \n",
       "4  ...  3.0    5    1    3    2    3    4    3    3    15.278005  \n",
       "\n",
       "[5 rows x 44 columns]"
      ]
     },
     "execution_count": 5,
     "metadata": {},
     "output_type": "execute_result"
    }
   ],
   "source": [
    "train_data.head()"
   ]
  },
  {
   "cell_type": "markdown",
   "id": "cc4bb404",
   "metadata": {},
   "source": [
    "# Dropping the index column "
   ]
  },
  {
   "cell_type": "code",
   "execution_count": 6,
   "id": "0f5fe8df",
   "metadata": {},
   "outputs": [],
   "source": [
    "train_data.drop(['Unnamed: 0'],axis=1,inplace=True)"
   ]
  },
  {
   "cell_type": "code",
   "execution_count": 7,
   "id": "72652ee4",
   "metadata": {},
   "outputs": [],
   "source": [
    "test_data.drop(['Unnamed: 0'],axis=1,inplace=True)"
   ]
  },
  {
   "cell_type": "code",
   "execution_count": 8,
   "id": "1d419132",
   "metadata": {},
   "outputs": [],
   "source": [
    "#Splitting the train dataset as inputs and targets\n",
    "x_train=train_data.drop(['revenue_log'],axis=1)#input variables\n",
    "y_train=train_data['revenue_log']#target variables\n"
   ]
  },
  {
   "cell_type": "code",
   "execution_count": 9,
   "id": "493e99eb",
   "metadata": {},
   "outputs": [],
   "source": [
    "x_test=test_data.copy()"
   ]
  },
  {
   "cell_type": "code",
   "execution_count": 76,
   "id": "c3d9becc",
   "metadata": {},
   "outputs": [
    {
     "data": {
      "text/html": [
       "<div>\n",
       "<style scoped>\n",
       "    .dataframe tbody tr th:only-of-type {\n",
       "        vertical-align: middle;\n",
       "    }\n",
       "\n",
       "    .dataframe tbody tr th {\n",
       "        vertical-align: top;\n",
       "    }\n",
       "\n",
       "    .dataframe thead th {\n",
       "        text-align: right;\n",
       "    }\n",
       "</style>\n",
       "<table border=\"1\" class=\"dataframe\">\n",
       "  <thead>\n",
       "    <tr style=\"text-align: right;\">\n",
       "      <th></th>\n",
       "      <th>Month</th>\n",
       "      <th>Year</th>\n",
       "      <th>Years_old</th>\n",
       "      <th>City Group</th>\n",
       "      <th>Type</th>\n",
       "      <th>P1</th>\n",
       "      <th>P2</th>\n",
       "      <th>P3</th>\n",
       "      <th>P4</th>\n",
       "      <th>P5</th>\n",
       "      <th>...</th>\n",
       "      <th>P28</th>\n",
       "      <th>P29</th>\n",
       "      <th>P30</th>\n",
       "      <th>P31</th>\n",
       "      <th>P32</th>\n",
       "      <th>P33</th>\n",
       "      <th>P34</th>\n",
       "      <th>P35</th>\n",
       "      <th>P36</th>\n",
       "      <th>P37</th>\n",
       "    </tr>\n",
       "  </thead>\n",
       "  <tbody>\n",
       "    <tr>\n",
       "      <th>0</th>\n",
       "      <td>7</td>\n",
       "      <td>1999</td>\n",
       "      <td>16</td>\n",
       "      <td>0</td>\n",
       "      <td>2</td>\n",
       "      <td>4</td>\n",
       "      <td>5.0</td>\n",
       "      <td>4.0</td>\n",
       "      <td>4.0</td>\n",
       "      <td>2</td>\n",
       "      <td>...</td>\n",
       "      <td>2.0</td>\n",
       "      <td>3.0</td>\n",
       "      <td>5</td>\n",
       "      <td>3</td>\n",
       "      <td>4</td>\n",
       "      <td>5</td>\n",
       "      <td>5</td>\n",
       "      <td>4</td>\n",
       "      <td>3</td>\n",
       "      <td>4</td>\n",
       "    </tr>\n",
       "    <tr>\n",
       "      <th>1</th>\n",
       "      <td>2</td>\n",
       "      <td>2008</td>\n",
       "      <td>7</td>\n",
       "      <td>0</td>\n",
       "      <td>1</td>\n",
       "      <td>4</td>\n",
       "      <td>5.0</td>\n",
       "      <td>4.0</td>\n",
       "      <td>4.0</td>\n",
       "      <td>1</td>\n",
       "      <td>...</td>\n",
       "      <td>3.0</td>\n",
       "      <td>3.0</td>\n",
       "      <td>0</td>\n",
       "      <td>0</td>\n",
       "      <td>0</td>\n",
       "      <td>0</td>\n",
       "      <td>0</td>\n",
       "      <td>0</td>\n",
       "      <td>0</td>\n",
       "      <td>0</td>\n",
       "    </tr>\n",
       "  </tbody>\n",
       "</table>\n",
       "<p>2 rows × 42 columns</p>\n",
       "</div>"
      ],
      "text/plain": [
       "   Month  Year  Years_old  City Group  Type  P1   P2   P3   P4  P5  ...  P28  \\\n",
       "0      7  1999         16           0     2   4  5.0  4.0  4.0   2  ...  2.0   \n",
       "1      2  2008          7           0     1   4  5.0  4.0  4.0   1  ...  3.0   \n",
       "\n",
       "   P29  P30  P31  P32  P33  P34  P35  P36  P37  \n",
       "0  3.0    5    3    4    5    5    4    3    4  \n",
       "1  3.0    0    0    0    0    0    0    0    0  \n",
       "\n",
       "[2 rows x 42 columns]"
      ]
     },
     "execution_count": 76,
     "metadata": {},
     "output_type": "execute_result"
    }
   ],
   "source": [
    "x_train.head(2)"
   ]
  },
  {
   "cell_type": "code",
   "execution_count": 11,
   "id": "cf96c097",
   "metadata": {},
   "outputs": [
    {
     "data": {
      "text/plain": [
       "0    15.547830\n",
       "1    15.750379\n",
       "2    14.535971\n",
       "3    14.799651\n",
       "4    15.278005\n",
       "Name: revenue_log, dtype: float64"
      ]
     },
     "execution_count": 11,
     "metadata": {},
     "output_type": "execute_result"
    }
   ],
   "source": [
    "y_train.head()"
   ]
  },
  {
   "cell_type": "code",
   "execution_count": 77,
   "id": "b73c56ee",
   "metadata": {},
   "outputs": [
    {
     "data": {
      "text/html": [
       "<div>\n",
       "<style scoped>\n",
       "    .dataframe tbody tr th:only-of-type {\n",
       "        vertical-align: middle;\n",
       "    }\n",
       "\n",
       "    .dataframe tbody tr th {\n",
       "        vertical-align: top;\n",
       "    }\n",
       "\n",
       "    .dataframe thead th {\n",
       "        text-align: right;\n",
       "    }\n",
       "</style>\n",
       "<table border=\"1\" class=\"dataframe\">\n",
       "  <thead>\n",
       "    <tr style=\"text-align: right;\">\n",
       "      <th></th>\n",
       "      <th>Month</th>\n",
       "      <th>Year</th>\n",
       "      <th>Years_old</th>\n",
       "      <th>City Group</th>\n",
       "      <th>Type</th>\n",
       "      <th>P1</th>\n",
       "      <th>P2</th>\n",
       "      <th>P3</th>\n",
       "      <th>P4</th>\n",
       "      <th>P5</th>\n",
       "      <th>...</th>\n",
       "      <th>P28</th>\n",
       "      <th>P29</th>\n",
       "      <th>P30</th>\n",
       "      <th>P31</th>\n",
       "      <th>P32</th>\n",
       "      <th>P33</th>\n",
       "      <th>P34</th>\n",
       "      <th>P35</th>\n",
       "      <th>P36</th>\n",
       "      <th>P37</th>\n",
       "    </tr>\n",
       "  </thead>\n",
       "  <tbody>\n",
       "    <tr>\n",
       "      <th>0</th>\n",
       "      <td>1</td>\n",
       "      <td>2011</td>\n",
       "      <td>4</td>\n",
       "      <td>1</td>\n",
       "      <td>1</td>\n",
       "      <td>1</td>\n",
       "      <td>4.0</td>\n",
       "      <td>4.0</td>\n",
       "      <td>4.0</td>\n",
       "      <td>1</td>\n",
       "      <td>...</td>\n",
       "      <td>2.0</td>\n",
       "      <td>3.0</td>\n",
       "      <td>0</td>\n",
       "      <td>0</td>\n",
       "      <td>0</td>\n",
       "      <td>0</td>\n",
       "      <td>0</td>\n",
       "      <td>0</td>\n",
       "      <td>0</td>\n",
       "      <td>0</td>\n",
       "    </tr>\n",
       "    <tr>\n",
       "      <th>1</th>\n",
       "      <td>3</td>\n",
       "      <td>2011</td>\n",
       "      <td>4</td>\n",
       "      <td>1</td>\n",
       "      <td>2</td>\n",
       "      <td>3</td>\n",
       "      <td>4.0</td>\n",
       "      <td>4.0</td>\n",
       "      <td>4.0</td>\n",
       "      <td>2</td>\n",
       "      <td>...</td>\n",
       "      <td>1.0</td>\n",
       "      <td>3.0</td>\n",
       "      <td>0</td>\n",
       "      <td>0</td>\n",
       "      <td>0</td>\n",
       "      <td>0</td>\n",
       "      <td>0</td>\n",
       "      <td>0</td>\n",
       "      <td>0</td>\n",
       "      <td>0</td>\n",
       "    </tr>\n",
       "  </tbody>\n",
       "</table>\n",
       "<p>2 rows × 42 columns</p>\n",
       "</div>"
      ],
      "text/plain": [
       "   Month  Year  Years_old  City Group  Type  P1   P2   P3   P4  P5  ...  P28  \\\n",
       "0      1  2011          4           1     1   1  4.0  4.0  4.0   1  ...  2.0   \n",
       "1      3  2011          4           1     2   3  4.0  4.0  4.0   2  ...  1.0   \n",
       "\n",
       "   P29  P30  P31  P32  P33  P34  P35  P36  P37  \n",
       "0  3.0    0    0    0    0    0    0    0    0  \n",
       "1  3.0    0    0    0    0    0    0    0    0  \n",
       "\n",
       "[2 rows x 42 columns]"
      ]
     },
     "execution_count": 77,
     "metadata": {},
     "output_type": "execute_result"
    }
   ],
   "source": [
    "x_test.head(2)"
   ]
  },
  {
   "cell_type": "code",
   "execution_count": 78,
   "id": "4b5845e7",
   "metadata": {},
   "outputs": [
    {
     "name": "stdout",
     "output_type": "stream",
     "text": [
      "Train Data -- inputs:  (134, 42) Targets :  (134,)\n",
      "Test Data --  (100000, 42)\n"
     ]
    }
   ],
   "source": [
    "print(\"Train Data -- inputs: \",x_train.shape,\"Targets : \",y_train.shape)\n",
    "print(\"Test Data -- \",x_test.shape)"
   ]
  },
  {
   "cell_type": "markdown",
   "id": "e4f03097",
   "metadata": {},
   "source": [
    "# Standardization"
   ]
  },
  {
   "cell_type": "code",
   "execution_count": 14,
   "id": "342eb87f",
   "metadata": {},
   "outputs": [],
   "source": [
    "# Standardising the independent variables\n",
    "scalar=StandardScaler()\n",
    "x_train_scaled=scalar.fit_transform(x_train)\n",
    "x_test_scaled=scalar.transform(x_test)"
   ]
  },
  {
   "cell_type": "code",
   "execution_count": 15,
   "id": "1f7122bf",
   "metadata": {},
   "outputs": [
    {
     "data": {
      "text/plain": [
       "(134, 42)"
      ]
     },
     "execution_count": 15,
     "metadata": {},
     "output_type": "execute_result"
    }
   ],
   "source": [
    "x_train_scaled.shape"
   ]
  },
  {
   "cell_type": "code",
   "execution_count": 16,
   "id": "b75c8e5a",
   "metadata": {},
   "outputs": [
    {
     "data": {
      "text/plain": [
       "(100000, 42)"
      ]
     },
     "execution_count": 16,
     "metadata": {},
     "output_type": "execute_result"
    }
   ],
   "source": [
    "x_test_scaled.shape"
   ]
  },
  {
   "cell_type": "markdown",
   "id": "13cf1b16",
   "metadata": {},
   "source": [
    "# Dimensionality Reduction using PCA"
   ]
  },
  {
   "cell_type": "code",
   "execution_count": 17,
   "id": "66133032",
   "metadata": {},
   "outputs": [],
   "source": [
    "pca=PCA(n_components=20)\n",
    "x_train_pca=pca.fit_transform(x_train_scaled)\n",
    "x_test_pca_=pca.transform(x_test_scaled)\n"
   ]
  },
  {
   "cell_type": "code",
   "execution_count": 18,
   "id": "6a0b33ff",
   "metadata": {},
   "outputs": [
    {
     "data": {
      "text/plain": [
       "(134, 20)"
      ]
     },
     "execution_count": 18,
     "metadata": {},
     "output_type": "execute_result"
    }
   ],
   "source": [
    "x_train_pca.shape"
   ]
  },
  {
   "cell_type": "code",
   "execution_count": 20,
   "id": "6606a733",
   "metadata": {},
   "outputs": [
    {
     "data": {
      "text/plain": [
       "(100000, 20)"
      ]
     },
     "execution_count": 20,
     "metadata": {},
     "output_type": "execute_result"
    }
   ],
   "source": [
    "x_test_pca_.shape"
   ]
  },
  {
   "cell_type": "markdown",
   "id": "d223aeee",
   "metadata": {},
   "source": [
    "The no. of dimensions has reduced to 20 after applying PCA with no. of components as 20.\n",
    "\n",
    "Let's check the explained variance and it's ratio ."
   ]
  },
  {
   "cell_type": "code",
   "execution_count": 21,
   "id": "dba84131",
   "metadata": {},
   "outputs": [],
   "source": [
    "variance=pca.explained_variance_"
   ]
  },
  {
   "cell_type": "code",
   "execution_count": 22,
   "id": "30da6a47",
   "metadata": {},
   "outputs": [
    {
     "data": {
      "text/plain": [
       "array([21.00870027,  6.73862827,  2.72556422,  1.78610166,  1.5247974 ,\n",
       "        1.31668701,  1.04603402,  0.75504368,  0.60587246,  0.53216826,\n",
       "        0.48962287,  0.43204138,  0.35762645,  0.32277324,  0.30847824,\n",
       "        0.28376667,  0.2592096 ,  0.22979194,  0.17588765,  0.17326338])"
      ]
     },
     "execution_count": 22,
     "metadata": {},
     "output_type": "execute_result"
    }
   ],
   "source": [
    "variance"
   ]
  },
  {
   "cell_type": "code",
   "execution_count": 23,
   "id": "72e060a0",
   "metadata": {},
   "outputs": [],
   "source": [
    "variance_ratio=pca.explained_variance_ratio_\n"
   ]
  },
  {
   "cell_type": "code",
   "execution_count": 24,
   "id": "936839d1",
   "metadata": {},
   "outputs": [
    {
     "data": {
      "text/plain": [
       "array([0.49647426, 0.15924619, 0.0644101 , 0.04220887, 0.03603377,\n",
       "       0.03111574, 0.02471971, 0.01784307, 0.01431788, 0.01257612,\n",
       "       0.01157069, 0.01020993, 0.00845137, 0.00762773, 0.00728991,\n",
       "       0.00670593, 0.0061256 , 0.00543041, 0.00415655, 0.00409453])"
      ]
     },
     "execution_count": 24,
     "metadata": {},
     "output_type": "execute_result"
    }
   ],
   "source": [
    "variance_ratio"
   ]
  },
  {
   "cell_type": "markdown",
   "id": "f0317638",
   "metadata": {},
   "source": [
    "# Modelling"
   ]
  },
  {
   "cell_type": "markdown",
   "id": "692d2d46",
   "metadata": {},
   "source": [
    "Displaying the shape of data for info"
   ]
  },
  {
   "cell_type": "code",
   "execution_count": 30,
   "id": "9f39db97",
   "metadata": {},
   "outputs": [
    {
     "name": "stdout",
     "output_type": "stream",
     "text": [
      "(134, 42) (100000, 42)\n"
     ]
    }
   ],
   "source": [
    "print(x_train.shape,x_test.shape)"
   ]
  },
  {
   "cell_type": "code",
   "execution_count": 31,
   "id": "abdbdc54",
   "metadata": {},
   "outputs": [
    {
     "name": "stdout",
     "output_type": "stream",
     "text": [
      "(134,)\n"
     ]
    }
   ],
   "source": [
    "print(y_train.shape)"
   ]
  },
  {
   "cell_type": "code",
   "execution_count": 32,
   "id": "aa4a5912",
   "metadata": {},
   "outputs": [
    {
     "name": "stdout",
     "output_type": "stream",
     "text": [
      "(134, 42) (100000, 42)\n"
     ]
    }
   ],
   "source": [
    "print(x_train_scaled.shape,x_test_scaled.shape)"
   ]
  },
  {
   "cell_type": "code",
   "execution_count": 33,
   "id": "8a6af24e",
   "metadata": {},
   "outputs": [
    {
     "name": "stdout",
     "output_type": "stream",
     "text": [
      "(134, 20) (100000, 20)\n"
     ]
    }
   ],
   "source": [
    "print(x_train_pca.shape,x_test_pca_.shape)"
   ]
  },
  {
   "cell_type": "code",
   "execution_count": 34,
   "id": "01a7a5b0",
   "metadata": {},
   "outputs": [
    {
     "data": {
      "text/plain": [
       "0      15.547830\n",
       "1      15.750379\n",
       "2      14.535971\n",
       "3      14.799651\n",
       "4      15.278005\n",
       "         ...    \n",
       "129    15.571227\n",
       "130    16.041512\n",
       "131    14.749585\n",
       "132    15.792038\n",
       "133    15.666048\n",
       "Name: revenue_log, Length: 134, dtype: float64"
      ]
     },
     "execution_count": 34,
     "metadata": {},
     "output_type": "execute_result"
    }
   ],
   "source": [
    "y_train"
   ]
  },
  {
   "cell_type": "code",
   "execution_count": 35,
   "id": "7526c2e3",
   "metadata": {},
   "outputs": [],
   "source": [
    "#Converting back to original revenue since we have to use these values in Kaggle for generating the rmse score of our model on test data.\n",
    "y_train=np.exp(y_train)"
   ]
  },
  {
   "cell_type": "code",
   "execution_count": 36,
   "id": "7e923458",
   "metadata": {},
   "outputs": [
    {
     "data": {
      "text/plain": [
       "0      5653753.0\n",
       "1      6923131.0\n",
       "2      2055379.0\n",
       "3      2675511.0\n",
       "4      4316715.0\n",
       "         ...    \n",
       "129    5787594.0\n",
       "130    9262754.0\n",
       "131    2544857.0\n",
       "132    7217634.0\n",
       "133    6363241.0\n",
       "Name: revenue_log, Length: 134, dtype: float64"
      ]
     },
     "execution_count": 36,
     "metadata": {},
     "output_type": "execute_result"
    }
   ],
   "source": [
    "y_train"
   ]
  },
  {
   "cell_type": "code",
   "execution_count": 37,
   "id": "da0dd86c",
   "metadata": {},
   "outputs": [],
   "source": [
    "#Defining the predict_model function to return the rmse value on train data\n",
    "from sklearn.metrics import mean_squared_error\n",
    "from sklearn.metrics import r2_score\n",
    "\n",
    "def predict_model(model,x_train,y_actual):\n",
    "    y_pred = model.predict(x_train)\n",
    "    rms = mean_squared_error(y_actual,y_pred,squared=False)   #squared=False for RMSE\n",
    "    r2score=r2_score(y_pred,y_actual)\n",
    "    print(\"r2 score: \" ,r2score)\n",
    "    print(\"rms : \",rms)\n",
    "    return rms"
   ]
  },
  {
   "cell_type": "code",
   "execution_count": 38,
   "id": "0ea088f7",
   "metadata": {},
   "outputs": [],
   "source": [
    "# Defining testDataPrediction function for generating a dataframe based on the conventions mentioned in Kaggle for testing.\n",
    "def testDataPrediction(model,x_test):\n",
    "    y_test = model.predict(x_test)\n",
    "    dataFrame = pd.DataFrame({'Id': test['Id'], 'Prediction': y_test}) \n",
    "    return dataFrame"
   ]
  },
  {
   "cell_type": "markdown",
   "id": "94f528bc",
   "metadata": {},
   "source": [
    "## Linear Regression"
   ]
  },
  {
   "cell_type": "markdown",
   "id": "e1bb2f50",
   "metadata": {
    "heading_collapsed": true
   },
   "source": [
    "##### Standard Scaler"
   ]
  },
  {
   "cell_type": "code",
   "execution_count": 39,
   "id": "b9e5bc56",
   "metadata": {
    "hidden": true
   },
   "outputs": [
    {
     "name": "stdout",
     "output_type": "stream",
     "text": [
      "r2 score:  -0.6961617409519361\n",
      "rms :  1422030.81811235\n"
     ]
    },
    {
     "data": {
      "text/plain": [
       "1422030.81811235"
      ]
     },
     "execution_count": 39,
     "metadata": {},
     "output_type": "execute_result"
    }
   ],
   "source": [
    "from sklearn import linear_model\n",
    "from sklearn.linear_model import LinearRegression\n",
    "\n",
    "modelLR=LinearRegression()\n",
    "modelLR.fit(x_train_scaled,y_train)\n",
    "rms_LR_=predict_model(modelLR,x_train_scaled,y_train)\n",
    "rms_LR_\n"
   ]
  },
  {
   "cell_type": "code",
   "execution_count": 40,
   "id": "76de0352",
   "metadata": {
    "hidden": true
   },
   "outputs": [],
   "source": [
    "predictions_LR = testDataPrediction(modelLR,x_test_scaled)\n",
    "predictions_LR.to_csv('./LinearRegressionModel.csv', index = False)"
   ]
  },
  {
   "attachments": {
    "linearRegression.PNG": {
     "image/png": "[encoded data removed]"
    }
   },
   "cell_type": "markdown",
   "id": "a6113b5e",
   "metadata": {
    "hidden": true
   },
   "source": [
    "![linearRegression.PNG](attachment:linearRegression.PNG)"
   ]
  },
  {
   "cell_type": "markdown",
   "id": "397d13a0",
   "metadata": {
    "heading_collapsed": true
   },
   "source": [
    "##### PCA"
   ]
  },
  {
   "cell_type": "code",
   "execution_count": 42,
   "id": "80223d7d",
   "metadata": {
    "hidden": true
   },
   "outputs": [
    {
     "name": "stdout",
     "output_type": "stream",
     "text": [
      "r2 score:  -3.2813007843735917\n",
      "rms :  1614231.3104591107\n"
     ]
    },
    {
     "data": {
      "text/plain": [
       "1614231.3104591107"
      ]
     },
     "execution_count": 42,
     "metadata": {},
     "output_type": "execute_result"
    }
   ],
   "source": [
    "#Applying PCA for dimensionality reduction\n",
    "modelLR2=LinearRegression()\n",
    "modelLR2.fit(x_train_pca,y_train)\n",
    "rms_LR_pca=predict_model(modelLR2,x_train_pca,y_train)\n",
    "rms_LR_pca\n"
   ]
  },
  {
   "cell_type": "code",
   "execution_count": 43,
   "id": "4c2cb5e8",
   "metadata": {
    "hidden": true
   },
   "outputs": [],
   "source": [
    "predictions_LR = testDataPrediction(modelLR2,x_test_pca_)\n",
    "predictions_LR.to_csv('./LinearRegressionModelPCA.csv', index = False)"
   ]
  },
  {
   "attachments": {
    "linearRegressionPCA.PNG": {
     "image/png": "[encoded data removed]"
    }
   },
   "cell_type": "markdown",
   "id": "062b6d7f",
   "metadata": {
    "hidden": true
   },
   "source": [
    "![linearRegressionPCA.PNG](attachment:linearRegressionPCA.PNG)"
   ]
  },
  {
   "cell_type": "markdown",
   "id": "57d285ea",
   "metadata": {},
   "source": [
    "## KNN"
   ]
  },
  {
   "cell_type": "markdown",
   "id": "db0886bc",
   "metadata": {
    "heading_collapsed": true
   },
   "source": [
    "##### Standard Scaler"
   ]
  },
  {
   "cell_type": "code",
   "execution_count": 44,
   "id": "f11d40ff",
   "metadata": {
    "hidden": true
   },
   "outputs": [
    {
     "name": "stdout",
     "output_type": "stream",
     "text": [
      "No. of optimal neighbors: 11\n",
      "Best score: -0.013078765899068135\n"
     ]
    }
   ],
   "source": [
    "from sklearn.neighbors import KNeighborsRegressor\n",
    "#https://scikit-learn.org/stable/modules/generated/sklearn.model_selection.GridSearchCV.html\n",
    "from sklearn.model_selection import GridSearchCV\n",
    "\n",
    "knn_parameters={'n_neighbors':[3,5,7,9,11,13,15]}\n",
    "\n",
    "knn=KNeighborsRegressor()\n",
    "modelKNN=GridSearchCV(knn,knn_parameters,cv=5,n_jobs=-1) #Number of jobs to run in parallel,-1 means using all processors.\n",
    "modelKNN.fit(x_train_scaled,y_train)\n",
    "\n",
    "print(f'No. of optimal neighbors: {modelKNN.best_params_[\"n_neighbors\"]}')\n",
    "print(f'Best score: {modelKNN.best_score_}')"
   ]
  },
  {
   "cell_type": "code",
   "execution_count": 45,
   "id": "bb8b8049",
   "metadata": {
    "hidden": true
   },
   "outputs": [
    {
     "name": "stdout",
     "output_type": "stream",
     "text": [
      "r2 score:  -3.4345587016709445\n",
      "rms :  1564502.330981812\n"
     ]
    },
    {
     "data": {
      "text/plain": [
       "1564502.330981812"
      ]
     },
     "execution_count": 45,
     "metadata": {},
     "output_type": "execute_result"
    }
   ],
   "source": [
    "rms_knn=predict_model(modelKNN,x_train_scaled,y_train)\n",
    "rms_knn"
   ]
  },
  {
   "cell_type": "code",
   "execution_count": 46,
   "id": "12214f2b",
   "metadata": {
    "hidden": true
   },
   "outputs": [],
   "source": [
    "predictions_knn = testDataPrediction(modelKNN,x_test_scaled)\n",
    "predictions_knn.to_csv('./KNeighborsRegressorModel.csv', index = False)"
   ]
  },
  {
   "attachments": {
    "KNeighborsRegressorModel.png": {
     "image/png": "[encoded data removed]"
    }
   },
   "cell_type": "markdown",
   "id": "a6061ca9",
   "metadata": {
    "hidden": true
   },
   "source": [
    "![KNeighborsRegressorModel.png](attachment:KNeighborsRegressorModel.png)"
   ]
  },
  {
   "cell_type": "markdown",
   "id": "5e38ded5",
   "metadata": {
    "heading_collapsed": true
   },
   "source": [
    "##### PCA"
   ]
  },
  {
   "cell_type": "code",
   "execution_count": 47,
   "id": "54146d9c",
   "metadata": {
    "hidden": true
   },
   "outputs": [
    {
     "name": "stdout",
     "output_type": "stream",
     "text": [
      "No. of optimal neighbors: 9\n",
      "Best score: -0.0377535647049684\n"
     ]
    }
   ],
   "source": [
    "knn_parameters={'n_neighbors':[3,5,7,9,11,13,15]} #no. of nearest neighbours to be considered\n",
    "\n",
    "knn_2=KNeighborsRegressor()\n",
    "modelKnn2=GridSearchCV(knn_2,knn_parameters,cv=5,n_jobs=-1) #Number of jobs to run in parallel,-1 means using all processors.\n",
    "modelKnn2.fit(x_train_pca,y_train)\n",
    "\n",
    "print(f'No. of optimal neighbors: {modelKnn2.best_params_[\"n_neighbors\"]}')\n",
    "print(f'Best score: {modelKnn2.best_score_}')"
   ]
  },
  {
   "cell_type": "code",
   "execution_count": 48,
   "id": "7a40f36c",
   "metadata": {
    "hidden": true
   },
   "outputs": [
    {
     "name": "stdout",
     "output_type": "stream",
     "text": [
      "r2 score:  -2.5121073196863475\n",
      "rms :  1542528.5116596185\n"
     ]
    },
    {
     "data": {
      "text/plain": [
       "1542528.5116596185"
      ]
     },
     "execution_count": 48,
     "metadata": {},
     "output_type": "execute_result"
    }
   ],
   "source": [
    "rms_knn2=predict_model(modelKnn2,x_train_pca,y_train)\n",
    "rms_knn2"
   ]
  },
  {
   "cell_type": "code",
   "execution_count": 49,
   "id": "5d39295f",
   "metadata": {
    "hidden": true
   },
   "outputs": [],
   "source": [
    "predictions_knn2 = testDataPrediction(modelKnn2,x_test_pca_)\n",
    "predictions_knn2.to_csv('./KNeighborsRegressorModelPCA.csv', index = False)"
   ]
  },
  {
   "attachments": {
    "KNeighborsRegressorModel-PCA.png": {
     "image/png": "[encoded data removed]"
    }
   },
   "cell_type": "markdown",
   "id": "85965247",
   "metadata": {
    "hidden": true
   },
   "source": [
    "![KNeighborsRegressorModel-PCA.png](attachment:KNeighborsRegressorModel-PCA.png)"
   ]
  },
  {
   "cell_type": "markdown",
   "id": "263190e9",
   "metadata": {
    "heading_collapsed": true
   },
   "source": [
    "## Random Forest"
   ]
  },
  {
   "cell_type": "code",
   "execution_count": 50,
   "id": "187566a8",
   "metadata": {
    "hidden": true
   },
   "outputs": [
    {
     "data": {
      "text/plain": [
       "GridSearchCV(cv=5, estimator=RandomForestRegressor(), n_jobs=-1,\n",
       "             param_grid={'max_depth': [10, 30, 35, 50, 65, 75, 100],\n",
       "                         'min_samples_leaf': [1, 2, 3, 4, 5],\n",
       "                         'min_samples_split': [2, 4, 6, 8, 10, 12],\n",
       "                         'n_estimators': [10, 30, 50, 75, 100, 200]},\n",
       "             scoring='neg_root_mean_squared_error')"
      ]
     },
     "execution_count": 50,
     "metadata": {},
     "output_type": "execute_result"
    }
   ],
   "source": [
    "from sklearn.ensemble import RandomForestRegressor\n",
    "\n",
    "rf_parameters = {\n",
    "    'max_depth': [10, 30, 35, 50, 65, 75, 100], #The maximum depth of the tree.\n",
    "    'min_samples_leaf': [1,2,3, 4, 5], # The minimum number of samples required to be at a leaf node. \n",
    "    'min_samples_split': [2,4,6,8, 10,12], #The minimum number of samples required to split an internal node\n",
    "    'n_estimators': [10,30, 50,75,100,200] #The number of trees in the forest.\n",
    "}\n",
    "\n",
    "rf=RandomForestRegressor()\n",
    "#Why use scoring='neg_root_mean_squared_error' ? --> https://stackoverflow.com/questions/62125674/why-is-negative-mse-or-mas-scoring-parameter-like-neg-mean-absolute-error-in/#answer-62131957\n",
    "#An objective function that the scorer can maximize is just by \"convention\" as the Sklearn documentation suggests.\n",
    "modelRF=GridSearchCV(rf,rf_parameters,n_jobs=-1,scoring='neg_root_mean_squared_error',cv=5) \n",
    "modelRF.fit(x_train_scaled,y_train)\n",
    "\n"
   ]
  },
  {
   "cell_type": "code",
   "execution_count": 51,
   "id": "2dd953d7",
   "metadata": {
    "hidden": true
   },
   "outputs": [
    {
     "name": "stdout",
     "output_type": "stream",
     "text": [
      "Optimal depth:  10\n",
      "Optimal min_sample_leaf:  2\n",
      "Optimal min_samples_split:  2\n",
      "Optimal n_estimators:  10\n",
      "Best score:  -1712640.9886868508\n"
     ]
    }
   ],
   "source": [
    "print(\"Optimal depth: \",modelRF.best_params_[\"max_depth\"])\n",
    "print(\"Optimal min_sample_leaf: \",modelRF.best_params_[\"min_samples_leaf\"])\n",
    "print(\"Optimal min_samples_split: \",modelRF.best_params_[\"min_samples_split\"])\n",
    "print(\"Optimal n_estimators: \",modelRF.best_params_[\"n_estimators\"])\n",
    "print(\"Best score: \",modelRF.best_score_)"
   ]
  },
  {
   "cell_type": "code",
   "execution_count": 52,
   "id": "e18a0b79",
   "metadata": {
    "hidden": true
   },
   "outputs": [
    {
     "name": "stdout",
     "output_type": "stream",
     "text": [
      "r2 score:  0.43162035132491006\n",
      "rms :  911051.6808180441\n"
     ]
    },
    {
     "data": {
      "text/plain": [
       "911051.6808180441"
      ]
     },
     "execution_count": 52,
     "metadata": {},
     "output_type": "execute_result"
    }
   ],
   "source": [
    "rms_rf=predict_model(modelRF,x_train_scaled,y_train)\n",
    "rms_rf"
   ]
  },
  {
   "cell_type": "code",
   "execution_count": 53,
   "id": "f0b241c3",
   "metadata": {
    "hidden": true
   },
   "outputs": [],
   "source": [
    "predictions_rf = testDataPrediction(modelRF,x_test_scaled)\n",
    "predictions_rf.to_csv('./RandomForestRegressorModel.csv', index = False)"
   ]
  },
  {
   "attachments": {
    "RandomForestRegressorModel.png": {
     "image/png": "[encoded data removed]"
    }
   },
   "cell_type": "markdown",
   "id": "450629a8",
   "metadata": {
    "hidden": true
   },
   "source": [
    "![RandomForestRegressorModel.png](attachment:RandomForestRegressorModel.png)"
   ]
  },
  {
   "cell_type": "markdown",
   "id": "d1fc04ec",
   "metadata": {
    "heading_collapsed": true
   },
   "source": [
    "## Gradient Boosting Regressor"
   ]
  },
  {
   "cell_type": "code",
   "execution_count": 54,
   "id": "ac3b0203",
   "metadata": {
    "hidden": true
   },
   "outputs": [
    {
     "data": {
      "text/plain": [
       "GridSearchCV(cv=10, estimator=GradientBoostingRegressor(), n_jobs=-1,\n",
       "             param_grid={'learning_rate': [0.01, 0.05, 0.1, 0.5, 0.75, 1],\n",
       "                         'max_depth': [2, 4, 8, 10, 30, 35, 50, 65, 75, 100],\n",
       "                         'n_estimators': [20, 50, 75, 100, 150, 200, 400]},\n",
       "             scoring='neg_root_mean_squared_error')"
      ]
     },
     "execution_count": 54,
     "metadata": {},
     "output_type": "execute_result"
    }
   ],
   "source": [
    "from sklearn.ensemble import GradientBoostingRegressor\n",
    "\n",
    "gbr_parameters={\n",
    "    'learning_rate':[0.01,0.05,0.1,0.5,0.75,1],\n",
    "    'n_estimators':[20,50,75,100,150,200,400], # The number of boosting stages to perform. \n",
    "    'max_depth': [2,4,8,10, 30, 35, 50, 65, 75, 100]   \n",
    "}\n",
    "\n",
    "gbr=GradientBoostingRegressor()\n",
    "modelGBR=GridSearchCV(gbr,gbr_parameters,n_jobs=-1,scoring='neg_root_mean_squared_error',cv=10)\n",
    "modelGBR.fit(x_train_scaled,y_train)"
   ]
  },
  {
   "cell_type": "code",
   "execution_count": 55,
   "id": "c4a48aa4",
   "metadata": {
    "hidden": true
   },
   "outputs": [
    {
     "name": "stdout",
     "output_type": "stream",
     "text": [
      "Optimal depth:  8\n",
      "Optimal Learning rate:  0.01\n",
      "Optimal n_estimators:  100\n",
      "Best score:  -1661974.6809895881\n"
     ]
    }
   ],
   "source": [
    "print(\"Optimal depth: \",modelGBR.best_params_[\"max_depth\"])\n",
    "print(\"Optimal Learning rate: \",modelGBR.best_params_[\"learning_rate\"])\n",
    "print(\"Optimal n_estimators: \",modelGBR.best_params_[\"n_estimators\"])\n",
    "print(\"Best score: \",modelGBR.best_score_)"
   ]
  },
  {
   "cell_type": "code",
   "execution_count": 56,
   "id": "d0bf52a4",
   "metadata": {
    "hidden": true
   },
   "outputs": [
    {
     "name": "stdout",
     "output_type": "stream",
     "text": [
      "r2 score:  0.5025648342375162\n",
      "rms :  760510.8783433627\n"
     ]
    },
    {
     "data": {
      "text/plain": [
       "760510.8783433627"
      ]
     },
     "execution_count": 56,
     "metadata": {},
     "output_type": "execute_result"
    }
   ],
   "source": [
    "rms_gbr=predict_model(modelGBR,x_train_scaled,y_train)\n",
    "rms_gbr"
   ]
  },
  {
   "cell_type": "code",
   "execution_count": 57,
   "id": "9837f7dd",
   "metadata": {
    "hidden": true
   },
   "outputs": [],
   "source": [
    "predictions_gbr = testDataPrediction(modelGBR,x_test_scaled)\n",
    "predictions_gbr.to_csv('./GradientBoostingRegressorModel.csv', index = False)"
   ]
  },
  {
   "attachments": {
    "GradientBoostingRegressionModel.png": {
     "image/png": "[encoded data removed]"
    }
   },
   "cell_type": "markdown",
   "id": "bbcdfddb",
   "metadata": {
    "hidden": true
   },
   "source": [
    "![GradientBoostingRegressionModel.png](attachment:GradientBoostingRegressionModel.png)"
   ]
  },
  {
   "cell_type": "markdown",
   "id": "01603961",
   "metadata": {},
   "source": [
    "## XGBoost"
   ]
  },
  {
   "cell_type": "code",
   "execution_count": 59,
   "id": "7475f7e4",
   "metadata": {},
   "outputs": [
    {
     "data": {
      "text/plain": [
       "GridSearchCV(cv=10,\n",
       "             estimator=XGBRegressor(base_score=None, booster=None,\n",
       "                                    callbacks=None, colsample_bylevel=None,\n",
       "                                    colsample_bynode=None,\n",
       "                                    colsample_bytree=None,\n",
       "                                    early_stopping_rounds=None,\n",
       "                                    enable_categorical=False, eval_metric=None,\n",
       "                                    gamma=None, gpu_id=None, grow_policy=None,\n",
       "                                    importance_type=None,\n",
       "                                    interaction_constraints=None,\n",
       "                                    learning_rate=None, max_bin=None,\n",
       "                                    max_ca...\n",
       "                                    monotone_constraints=None, n_estimators=100,\n",
       "                                    n_jobs=None, num_parallel_tree=None,\n",
       "                                    predictor=None, random_state=None,\n",
       "                                    reg_alpha=None, reg_lambda=None, ...),\n",
       "             n_jobs=-1,\n",
       "             param_grid={'gamma': [0, 50],\n",
       "                         'learning_rate': [0.1, 0.5, 0.75, 0.9, 0.99, 1],\n",
       "                         'n_estimators': [20, 50, 100, 200],\n",
       "                         'reg_alpha': [0.0001, 0.001, 0.01, 0.1, 0.5, 1],\n",
       "                         'reg_lambda': [0.0001, 0.001, 0.01, 0.1, 0.5, 1]},\n",
       "             scoring='neg_root_mean_squared_error')"
      ]
     },
     "execution_count": 59,
     "metadata": {},
     "output_type": "execute_result"
    }
   ],
   "source": [
    "from xgboost import XGBRegressor\n",
    "\n",
    "xgb_parameters={ 'learning_rate': [0.1,0.5,0.75,0.9,0.99, 1], #Boosting learning rate (xgb’s “eta”)\n",
    "                'n_estimators': [20,50,100,200], #Number of boosted trees to fit.\n",
    "                'reg_alpha': [0.0001,0.001,0.01,0.1,0.5,1], #L1 regularization term on weights\n",
    "                'reg_lambda': [0.0001,0.001,0.01,0.1,0.5,1], # L2 regularization term on weights\n",
    "                'gamma':[0,50] # Minimum loss reduction required to make a further partition\n",
    "                                           #on a leaf node of the tree.\n",
    "               }\n",
    "\n",
    "xgb=XGBRegressor()\n",
    "modelXGB=GridSearchCV(xgb,xgb_parameters,n_jobs=-1,cv=10,scoring='neg_root_mean_squared_error')\n",
    "modelXGB.fit(x_train_scaled,y_train)"
   ]
  },
  {
   "cell_type": "code",
   "execution_count": 60,
   "id": "49b297fc",
   "metadata": {},
   "outputs": [
    {
     "name": "stdout",
     "output_type": "stream",
     "text": [
      "Optimal Learning rate:  0.1\n",
      "Optimal alpha:  0.01\n",
      "Optimal lambda:  0.1\n",
      "Optimal n_estimators:  50\n",
      "Optimal gamma:  0\n",
      "Best score:  -1661974.6809895881\n"
     ]
    }
   ],
   "source": [
    "print(\"Optimal Learning rate: \",modelXGB.best_params_[\"learning_rate\"])\n",
    "print(\"Optimal alpha: \",modelXGB.best_params_[\"reg_alpha\"])\n",
    "print(\"Optimal lambda: \",modelXGB.best_params_[\"reg_lambda\"])\n",
    "print(\"Optimal n_estimators: \",modelXGB.best_params_[\"n_estimators\"])\n",
    "print(\"Optimal gamma: \",modelXGB.best_params_[\"gamma\"])\n",
    "print(\"Best score: \",modelGBR.best_score_)\n"
   ]
  },
  {
   "cell_type": "code",
   "execution_count": 61,
   "id": "2cc62b08",
   "metadata": {},
   "outputs": [
    {
     "name": "stdout",
     "output_type": "stream",
     "text": [
      "r2 score:  0.9900408912323851\n",
      "rms :  167556.47961572572\n"
     ]
    },
    {
     "data": {
      "text/plain": [
       "167556.47961572572"
      ]
     },
     "execution_count": 61,
     "metadata": {},
     "output_type": "execute_result"
    }
   ],
   "source": [
    "rms_xgb=predict_model(modelXGB,x_train_scaled,y_train)\n",
    "rms_xgb"
   ]
  },
  {
   "cell_type": "code",
   "execution_count": 62,
   "id": "e7801346",
   "metadata": {},
   "outputs": [],
   "source": [
    "predictions_xgb = testDataPrediction(modelXGB,x_test_scaled)\n",
    "predictions_xgb.to_csv('./XGBRegressorModel.csv', index = False)"
   ]
  },
  {
   "attachments": {
    "XGGRegressorModel.PNG": {
     "image/png": "[encoded data removed]"
    }
   },
   "cell_type": "markdown",
   "id": "3d22fce7",
   "metadata": {},
   "source": [
    "![XGGRegressorModel.PNG](attachment:XGGRegressorModel.PNG)"
   ]
  },
  {
   "cell_type": "markdown",
   "id": "9fe7c5c8",
   "metadata": {},
   "source": [
    "# Summary"
   ]
  },
  {
   "cell_type": "code",
   "execution_count": 66,
   "id": "c99fe53e",
   "metadata": {},
   "outputs": [
    {
     "name": "stdout",
     "output_type": "stream",
     "text": [
      "+----+-------------------------------------------+------------------+-------------+\n",
      "|    | Models                                    |       Train RMSE |   Test RMSE |\n",
      "|----+-------------------------------------------+------------------+-------------|\n",
      "|  0 | Linear Regression - Standard scaler       |      1.42203e+06 | 2.05205e+06 |\n",
      "|  1 | Linear Regression - PCA                   |      1.61423e+06 | 1.9145e+06  |\n",
      "|  2 | KNN Regressor- Standard scaler            |      1.5645e+06  | 1.77165e+06 |\n",
      "|  3 | KNN Regressor - PCA                       |      1.54253e+06 | 1.88501e+06 |\n",
      "|  4 | Random Forest Regressor-GridSearchCV      | 911052           | 1.82943e+06 |\n",
      "|  5 | Gradient Boosting Regressor -GridSearchCV | 760511           | 1.99678e+06 |\n",
      "|  6 | XGBoost                                   | 167556           | 2.04701e+06 |\n",
      "+----+-------------------------------------------+------------------+-------------+\n"
     ]
    }
   ],
   "source": [
    "from tabulate import tabulate \n",
    "dict = {'Models'     : ['Linear Regression - Standard scaler','Linear Regression - PCA','KNN Regressor- Standard scaler',\n",
    "                        'KNN Regressor - PCA','Random Forest Regressor-GridSearchCV','Gradient Boosting Regressor -GridSearchCV ','XGBoost'],\n",
    "        'Train RMSE' : [rms_LR_,rms_LR_pca,rms_knn,rms_knn2,rms_rf,rms_gbr,rms_xgb],\n",
    "        'Test RMSE'  : ['2052046.92310','1914503.15693','1771652.76748','1885007.94208',\n",
    "                        '1829428.24568','1996780.01251','2047011.02413']  \n",
    "        }\n",
    "df = pd.DataFrame(dict)\n",
    "print(tabulate(df, headers = 'keys', tablefmt = 'psql')) "
   ]
  },
  {
   "cell_type": "markdown",
   "id": "b6f35f5e",
   "metadata": {},
   "source": [
    "The model with the least TEST RMSE, i.e **KNN Regressor- Standard Scaler** values proves to be the best model among the ones that we have implemented. "
   ]
  },
  {
   "cell_type": "markdown",
   "id": "27b1515c",
   "metadata": {},
   "source": [
    "# Feature Importance"
   ]
  },
  {
   "cell_type": "markdown",
   "id": "980881e9",
   "metadata": {},
   "source": [
    "We have found that the KNN Regressor- Standard Scaler model performs the best . But Feature importance can't be drawn out from knn model since it's working is not based upon the feature weights. "
   ]
  },
  {
   "cell_type": "markdown",
   "id": "6e14b462",
   "metadata": {},
   "source": [
    "So we can use the second best model- Random Forest Regressor-GridSearchCV for plotting the feature imporatances "
   ]
  },
  {
   "cell_type": "code",
   "execution_count": 74,
   "id": "409a9c43",
   "metadata": {},
   "outputs": [],
   "source": [
    "def plot_feature_importance(importance,names,model_type):\n",
    "\n",
    "    #Create arrays from feature importance and feature names\n",
    "    feature_importance = np.array(importance)\n",
    "    feature_names = np.array(names)\n",
    "\n",
    "    #Create a DataFrame using a Dictionary\n",
    "    data={'feature_names':feature_names,'feature_importance':feature_importance}\n",
    "    fi_df = pd.DataFrame(data)\n",
    "\n",
    "    #Sort the DataFrame in order decreasing feature importance\n",
    "    fi_df.sort_values(by=['feature_importance'], ascending=False,inplace=True)\n",
    "\n",
    "    #Define size of bar plot\n",
    "    plt.figure(figsize=(18,12))\n",
    "    #Plot Searborn bar chart\n",
    "    sns.barplot(x=fi_df['feature_importance'], y=fi_df['feature_names'])\n",
    "    #Add chart labels\n",
    "    plt.title(model_type + ' FEATURE IMPORTANCE')\n",
    "    plt.xlabel('FEATURE IMPORTANCE')\n",
    "    plt.ylabel('FEATURE NAMES')"
   ]
  },
  {
   "cell_type": "code",
   "execution_count": 75,
   "id": "3cb95a73",
   "metadata": {},
   "outputs": [
    {
     "data": {
      "image/png": "[encoded data removed]",
      "text/plain": [
       "<Figure size 1296x864 with 1 Axes>"
      ]
     },
     "metadata": {
      "needs_background": "light"
     },
     "output_type": "display_data"
    }
   ],
   "source": [
    "plot_feature_importance(modelRF.best_estimator_.feature_importances_,x_train.columns,'RANDOM FOREST')\n"
   ]
  },
  {
   "cell_type": "code",
   "execution_count": null,
   "id": "e77e61c1",
   "metadata": {},
   "outputs": [],
   "source": []
  }
 ],
 "metadata": {
  "kernelspec": {
   "display_name": "Python 3 (ipykernel)",
   "language": "python",
   "name": "python3"
  },
  "language_info": {
   "codemirror_mode": {
    "name": "ipython",
    "version": 3
   },
   "file_extension": ".py",
   "mimetype": "text/x-python",
   "name": "python",
   "nbconvert_exporter": "python",
   "pygments_lexer": "ipython3",
   "version": "3.8.13"
  }
 },
 "nbformat": 4,
 "nbformat_minor": 5
}
